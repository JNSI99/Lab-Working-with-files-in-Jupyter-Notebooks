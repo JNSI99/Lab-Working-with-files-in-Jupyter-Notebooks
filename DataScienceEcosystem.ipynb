{
 "cells": [
  {
   "cell_type": "markdown",
   "id": "340696a1-1e86-470e-8d3e-cbcbf16b4cb3",
   "metadata": {},
   "source": [
    "# Data Science Tools and Ecosystem\n",
    "\n"
   ]
  },
  {
   "cell_type": "markdown",
   "id": "564f213b-91df-4469-b4ad-8a5768de2eef",
   "metadata": {},
   "source": [
    "In this notebook, Data Science Tools and Ecosystem are summarized.\n"
   ]
  },
  {
   "cell_type": "markdown",
   "id": "2962fef0-29fa-43cd-b062-d279eaae9607",
   "metadata": {},
   "source": [
    "Some of the popular languages that Data Scientists use are:"
   ]
  },
  {
   "cell_type": "markdown",
   "id": "b228aa80-4ea1-4f0c-9c0c-aae0ccbbbff5",
   "metadata": {},
   "source": [
    "1. Python\n",
    "2. C++\n",
    "3. Java"
   ]
  },
  {
   "cell_type": "markdown",
   "id": "f0d85e2b-2202-430e-b2ac-7370969d7bbf",
   "metadata": {},
   "source": [
    "Some of the commonly used libraries used by Data Scientists include:\n",
    "1. Numpy.\n",
    "2. Matplotlib.\n",
    "3. Scipy."
   ]
  },
  {
   "cell_type": "markdown",
   "id": "aba516b4-4de4-43d0-85b1-4acd970c3eb3",
   "metadata": {},
   "source": [
    "|Data Science Tools|\n",
    "|------------------|\n",
    "|Python|\n",
    "|R|\n",
    "|Hadoop|"
   ]
  },
  {
   "cell_type": "markdown",
   "id": "92eee6f9-7742-4be7-a39f-3cfa180ee8e1",
   "metadata": {},
   "source": [
    "### Below are a few examples of evaluating arithmetic expressions in Python"
   ]
  },
  {
   "cell_type": "code",
   "execution_count": null,
   "id": "74f61fb2-2e03-4584-b132-6ba508f47f91",
   "metadata": {},
   "outputs": [],
   "source": []
  }
 ],
 "metadata": {
  "kernelspec": {
   "display_name": "Python 3 (ipykernel)",
   "language": "python",
   "name": "python3"
  },
  "language_info": {
   "codemirror_mode": {
    "name": "ipython",
    "version": 3
   },
   "file_extension": ".py",
   "mimetype": "text/x-python",
   "name": "python",
   "nbconvert_exporter": "python",
   "pygments_lexer": "ipython3",
   "version": "3.12.8"
  }
 },
 "nbformat": 4,
 "nbformat_minor": 5
}
